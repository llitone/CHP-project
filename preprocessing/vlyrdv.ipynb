{
  "cells": [
    {
      "cell_type": "code",
      "execution_count": null,
      "metadata": {
        "id": "ySsJ_g-jVrM6"
      },
      "outputs": [],
      "source": [
        "import numpy as np\n",
        "import pandas as pd\n",
        "\n",
        "import seaborn as sns\n",
        "from matplotlib import pyplot as plt\n",
        "\n",
        "from sklearn.datasets import make_moons\n",
        "from sklearn.model_selection import train_test_split\n"
      ]
    },
    {
      "cell_type": "code",
      "execution_count": null,
      "metadata": {
        "id": "LC7LAXITV4ga"
      },
      "outputs": [],
      "source": [
        "data = pd.read_csv(\"page2.csv\")"
      ]
    },
    {
      "cell_type": "code",
      "execution_count": null,
      "metadata": {
        "colab": {
          "base_uri": "https://localhost:8080/",
          "height": 473
        },
        "id": "PGObVd2QWMAd",
        "outputId": "e92caba7-6496-47b7-aa67-9c3650276740"
      },
      "outputs": [
        {
          "output_type": "execute_result",
          "data": {
            "text/plain": [
              "   Unnamed: 0.1           Unnamed: 0                           тыс. кВтч  \\\n",
              "0             0                  NaN  Выработка электроэнергии ТА гр.130   \n",
              "1             1               Период                        00T000GE0L19   \n",
              "2             2  2019-01-01 00:00:00                            6127.957   \n",
              "3             3  2019-01-02 00:00:00                            6178.173   \n",
              "4             4  2019-01-03 00:00:00                            6543.367   \n",
              "\n",
              "                         тыс. кВтч.1  \\\n",
              "0  Выработка электроэнергии ТА гр.90   \n",
              "1                       00T000GE0N19   \n",
              "2                            1017.03   \n",
              "3                           1018.596   \n",
              "4                           1022.184   \n",
              "\n",
              "                                          ккал/кВтч  \\\n",
              "0  Удельный расход тепла на выработку э/э ТА гр.130   \n",
              "1                                      00T000DU0L19   \n",
              "2                                1359.1805556076845   \n",
              "3                                1357.8447868002402   \n",
              "4                                1394.8476373096603   \n",
              "\n",
              "                                       ккал/кВтч.1  \\\n",
              "0  Удельный расход тепла на выработку э/э ТА гр.90   \n",
              "1                                     00T000DU0N19   \n",
              "2                                           1943.9   \n",
              "3                                          1896.73   \n",
              "4                                          1981.05   \n",
              "\n",
              "                                              г/кВтч  \\\n",
              "0  Удельный расход условного топлива на отпуск э/...   \n",
              "1                                       00S000GD0L19   \n",
              "2                                 312.51610659934016   \n",
              "3                                 312.14650075768895   \n",
              "4                                  313.1850362448487   \n",
              "\n",
              "                                            г/кВтч.1           Unnamed: 7  \\\n",
              "0  Удельный расход условного топлива на отпуск э/...                  NaN   \n",
              "1                                       00S000GD0N19               Период   \n",
              "2                                 466.81346335325577  2019-05-01 00:00:00   \n",
              "3                                 460.44077533734463  2019-05-02 00:00:00   \n",
              "4                                  468.6093553715739  2019-05-03 00:00:00   \n",
              "\n",
              "                               т/ч  ...          Unnamed: 39  \\\n",
              "0  Расход пара в конденсатор ТА №3  ...                  NaN   \n",
              "1                     03T110DH0N19  ...               Период   \n",
              "2                                0  ...  2019-01-01 00:00:00   \n",
              "3                                0  ...  2019-01-02 00:00:00   \n",
              "4                                0  ...  2019-01-03 00:00:00   \n",
              "\n",
              "                           Гкал                       Гкал.1  \\\n",
              "0  Отпуск тепла из ТО ТА гр.130  Отпуск тепла из ТО ТА гр.90   \n",
              "1                  00T000QT0L19                 00T000QT0N19   \n",
              "2                         10544                         1275   \n",
              "3                         10497                         1279   \n",
              "4                         10494                         1463   \n",
              "\n",
              "           Unnamed: 42                    Гкал.2                    Гкал.3  \\\n",
              "0                  NaN  Отпуск тепла из ТО ТА №3  Отпуск тепла из ТО ТА №4   \n",
              "1               Период              03T000QT0N19              04T000QT0N19   \n",
              "2  2019-01-01 00:00:00                         0                       424   \n",
              "3  2019-01-02 00:00:00                         0                       439   \n",
              "4  2019-01-03 00:00:00                         0                       451   \n",
              "\n",
              "                     Гкал.4                    Гкал.5  \\\n",
              "0  Отпуск тепла из ТО ТА №5  Отпуск тепла из ТО ТА №6   \n",
              "1              05T000QT0N19              06T000QT0L19   \n",
              "2                       851                      4149   \n",
              "3                       840                      4279   \n",
              "4                      1012                      3893   \n",
              "\n",
              "                     Гкал.6                    Гкал.7  \n",
              "0  Отпуск тепла из ТО ТА №7  Отпуск тепла из ТО ТА №8  \n",
              "1              07T000QT0L19              08T000QT0L19  \n",
              "2                      3204                      3191  \n",
              "3                      3227                      2991  \n",
              "4                      3470                      3131  \n",
              "\n",
              "[5 rows x 50 columns]"
            ],
            "text/html": [
              "\n",
              "  <div id=\"df-b2da379e-a059-471c-83c7-eedd0ad9b54c\">\n",
              "    <div class=\"colab-df-container\">\n",
              "      <div>\n",
              "<style scoped>\n",
              "    .dataframe tbody tr th:only-of-type {\n",
              "        vertical-align: middle;\n",
              "    }\n",
              "\n",
              "    .dataframe tbody tr th {\n",
              "        vertical-align: top;\n",
              "    }\n",
              "\n",
              "    .dataframe thead th {\n",
              "        text-align: right;\n",
              "    }\n",
              "</style>\n",
              "<table border=\"1\" class=\"dataframe\">\n",
              "  <thead>\n",
              "    <tr style=\"text-align: right;\">\n",
              "      <th></th>\n",
              "      <th>Unnamed: 0.1</th>\n",
              "      <th>Unnamed: 0</th>\n",
              "      <th>тыс. кВтч</th>\n",
              "      <th>тыс. кВтч.1</th>\n",
              "      <th>ккал/кВтч</th>\n",
              "      <th>ккал/кВтч.1</th>\n",
              "      <th>г/кВтч</th>\n",
              "      <th>г/кВтч.1</th>\n",
              "      <th>Unnamed: 7</th>\n",
              "      <th>т/ч</th>\n",
              "      <th>...</th>\n",
              "      <th>Unnamed: 39</th>\n",
              "      <th>Гкал</th>\n",
              "      <th>Гкал.1</th>\n",
              "      <th>Unnamed: 42</th>\n",
              "      <th>Гкал.2</th>\n",
              "      <th>Гкал.3</th>\n",
              "      <th>Гкал.4</th>\n",
              "      <th>Гкал.5</th>\n",
              "      <th>Гкал.6</th>\n",
              "      <th>Гкал.7</th>\n",
              "    </tr>\n",
              "  </thead>\n",
              "  <tbody>\n",
              "    <tr>\n",
              "      <th>0</th>\n",
              "      <td>0</td>\n",
              "      <td>NaN</td>\n",
              "      <td>Выработка электроэнергии ТА гр.130</td>\n",
              "      <td>Выработка электроэнергии ТА гр.90</td>\n",
              "      <td>Удельный расход тепла на выработку э/э ТА гр.130</td>\n",
              "      <td>Удельный расход тепла на выработку э/э ТА гр.90</td>\n",
              "      <td>Удельный расход условного топлива на отпуск э/...</td>\n",
              "      <td>Удельный расход условного топлива на отпуск э/...</td>\n",
              "      <td>NaN</td>\n",
              "      <td>Расход пара в конденсатор ТА №3</td>\n",
              "      <td>...</td>\n",
              "      <td>NaN</td>\n",
              "      <td>Отпуск тепла из ТО ТА гр.130</td>\n",
              "      <td>Отпуск тепла из ТО ТА гр.90</td>\n",
              "      <td>NaN</td>\n",
              "      <td>Отпуск тепла из ТО ТА №3</td>\n",
              "      <td>Отпуск тепла из ТО ТА №4</td>\n",
              "      <td>Отпуск тепла из ТО ТА №5</td>\n",
              "      <td>Отпуск тепла из ТО ТА №6</td>\n",
              "      <td>Отпуск тепла из ТО ТА №7</td>\n",
              "      <td>Отпуск тепла из ТО ТА №8</td>\n",
              "    </tr>\n",
              "    <tr>\n",
              "      <th>1</th>\n",
              "      <td>1</td>\n",
              "      <td>Период</td>\n",
              "      <td>00T000GE0L19</td>\n",
              "      <td>00T000GE0N19</td>\n",
              "      <td>00T000DU0L19</td>\n",
              "      <td>00T000DU0N19</td>\n",
              "      <td>00S000GD0L19</td>\n",
              "      <td>00S000GD0N19</td>\n",
              "      <td>Период</td>\n",
              "      <td>03T110DH0N19</td>\n",
              "      <td>...</td>\n",
              "      <td>Период</td>\n",
              "      <td>00T000QT0L19</td>\n",
              "      <td>00T000QT0N19</td>\n",
              "      <td>Период</td>\n",
              "      <td>03T000QT0N19</td>\n",
              "      <td>04T000QT0N19</td>\n",
              "      <td>05T000QT0N19</td>\n",
              "      <td>06T000QT0L19</td>\n",
              "      <td>07T000QT0L19</td>\n",
              "      <td>08T000QT0L19</td>\n",
              "    </tr>\n",
              "    <tr>\n",
              "      <th>2</th>\n",
              "      <td>2</td>\n",
              "      <td>2019-01-01 00:00:00</td>\n",
              "      <td>6127.957</td>\n",
              "      <td>1017.03</td>\n",
              "      <td>1359.1805556076845</td>\n",
              "      <td>1943.9</td>\n",
              "      <td>312.51610659934016</td>\n",
              "      <td>466.81346335325577</td>\n",
              "      <td>2019-05-01 00:00:00</td>\n",
              "      <td>0</td>\n",
              "      <td>...</td>\n",
              "      <td>2019-01-01 00:00:00</td>\n",
              "      <td>10544</td>\n",
              "      <td>1275</td>\n",
              "      <td>2019-01-01 00:00:00</td>\n",
              "      <td>0</td>\n",
              "      <td>424</td>\n",
              "      <td>851</td>\n",
              "      <td>4149</td>\n",
              "      <td>3204</td>\n",
              "      <td>3191</td>\n",
              "    </tr>\n",
              "    <tr>\n",
              "      <th>3</th>\n",
              "      <td>3</td>\n",
              "      <td>2019-01-02 00:00:00</td>\n",
              "      <td>6178.173</td>\n",
              "      <td>1018.596</td>\n",
              "      <td>1357.8447868002402</td>\n",
              "      <td>1896.73</td>\n",
              "      <td>312.14650075768895</td>\n",
              "      <td>460.44077533734463</td>\n",
              "      <td>2019-05-02 00:00:00</td>\n",
              "      <td>0</td>\n",
              "      <td>...</td>\n",
              "      <td>2019-01-02 00:00:00</td>\n",
              "      <td>10497</td>\n",
              "      <td>1279</td>\n",
              "      <td>2019-01-02 00:00:00</td>\n",
              "      <td>0</td>\n",
              "      <td>439</td>\n",
              "      <td>840</td>\n",
              "      <td>4279</td>\n",
              "      <td>3227</td>\n",
              "      <td>2991</td>\n",
              "    </tr>\n",
              "    <tr>\n",
              "      <th>4</th>\n",
              "      <td>4</td>\n",
              "      <td>2019-01-03 00:00:00</td>\n",
              "      <td>6543.367</td>\n",
              "      <td>1022.184</td>\n",
              "      <td>1394.8476373096603</td>\n",
              "      <td>1981.05</td>\n",
              "      <td>313.1850362448487</td>\n",
              "      <td>468.6093553715739</td>\n",
              "      <td>2019-05-03 00:00:00</td>\n",
              "      <td>0</td>\n",
              "      <td>...</td>\n",
              "      <td>2019-01-03 00:00:00</td>\n",
              "      <td>10494</td>\n",
              "      <td>1463</td>\n",
              "      <td>2019-01-03 00:00:00</td>\n",
              "      <td>0</td>\n",
              "      <td>451</td>\n",
              "      <td>1012</td>\n",
              "      <td>3893</td>\n",
              "      <td>3470</td>\n",
              "      <td>3131</td>\n",
              "    </tr>\n",
              "  </tbody>\n",
              "</table>\n",
              "<p>5 rows × 50 columns</p>\n",
              "</div>\n",
              "      <button class=\"colab-df-convert\" onclick=\"convertToInteractive('df-b2da379e-a059-471c-83c7-eedd0ad9b54c')\"\n",
              "              title=\"Convert this dataframe to an interactive table.\"\n",
              "              style=\"display:none;\">\n",
              "        \n",
              "  <svg xmlns=\"http://www.w3.org/2000/svg\" height=\"24px\"viewBox=\"0 0 24 24\"\n",
              "       width=\"24px\">\n",
              "    <path d=\"M0 0h24v24H0V0z\" fill=\"none\"/>\n",
              "    <path d=\"M18.56 5.44l.94 2.06.94-2.06 2.06-.94-2.06-.94-.94-2.06-.94 2.06-2.06.94zm-11 1L8.5 8.5l.94-2.06 2.06-.94-2.06-.94L8.5 2.5l-.94 2.06-2.06.94zm10 10l.94 2.06.94-2.06 2.06-.94-2.06-.94-.94-2.06-.94 2.06-2.06.94z\"/><path d=\"M17.41 7.96l-1.37-1.37c-.4-.4-.92-.59-1.43-.59-.52 0-1.04.2-1.43.59L10.3 9.45l-7.72 7.72c-.78.78-.78 2.05 0 2.83L4 21.41c.39.39.9.59 1.41.59.51 0 1.02-.2 1.41-.59l7.78-7.78 2.81-2.81c.8-.78.8-2.07 0-2.86zM5.41 20L4 18.59l7.72-7.72 1.47 1.35L5.41 20z\"/>\n",
              "  </svg>\n",
              "      </button>\n",
              "      \n",
              "  <style>\n",
              "    .colab-df-container {\n",
              "      display:flex;\n",
              "      flex-wrap:wrap;\n",
              "      gap: 12px;\n",
              "    }\n",
              "\n",
              "    .colab-df-convert {\n",
              "      background-color: #E8F0FE;\n",
              "      border: none;\n",
              "      border-radius: 50%;\n",
              "      cursor: pointer;\n",
              "      display: none;\n",
              "      fill: #1967D2;\n",
              "      height: 32px;\n",
              "      padding: 0 0 0 0;\n",
              "      width: 32px;\n",
              "    }\n",
              "\n",
              "    .colab-df-convert:hover {\n",
              "      background-color: #E2EBFA;\n",
              "      box-shadow: 0px 1px 2px rgba(60, 64, 67, 0.3), 0px 1px 3px 1px rgba(60, 64, 67, 0.15);\n",
              "      fill: #174EA6;\n",
              "    }\n",
              "\n",
              "    [theme=dark] .colab-df-convert {\n",
              "      background-color: #3B4455;\n",
              "      fill: #D2E3FC;\n",
              "    }\n",
              "\n",
              "    [theme=dark] .colab-df-convert:hover {\n",
              "      background-color: #434B5C;\n",
              "      box-shadow: 0px 1px 3px 1px rgba(0, 0, 0, 0.15);\n",
              "      filter: drop-shadow(0px 1px 2px rgba(0, 0, 0, 0.3));\n",
              "      fill: #FFFFFF;\n",
              "    }\n",
              "  </style>\n",
              "\n",
              "      <script>\n",
              "        const buttonEl =\n",
              "          document.querySelector('#df-b2da379e-a059-471c-83c7-eedd0ad9b54c button.colab-df-convert');\n",
              "        buttonEl.style.display =\n",
              "          google.colab.kernel.accessAllowed ? 'block' : 'none';\n",
              "\n",
              "        async function convertToInteractive(key) {\n",
              "          const element = document.querySelector('#df-b2da379e-a059-471c-83c7-eedd0ad9b54c');\n",
              "          const dataTable =\n",
              "            await google.colab.kernel.invokeFunction('convertToInteractive',\n",
              "                                                     [key], {});\n",
              "          if (!dataTable) return;\n",
              "\n",
              "          const docLinkHtml = 'Like what you see? Visit the ' +\n",
              "            '<a target=\"_blank\" href=https://colab.research.google.com/notebooks/data_table.ipynb>data table notebook</a>'\n",
              "            + ' to learn more about interactive tables.';\n",
              "          element.innerHTML = '';\n",
              "          dataTable['output_type'] = 'display_data';\n",
              "          await google.colab.output.renderOutput(dataTable, element);\n",
              "          const docLink = document.createElement('div');\n",
              "          docLink.innerHTML = docLinkHtml;\n",
              "          element.appendChild(docLink);\n",
              "        }\n",
              "      </script>\n",
              "    </div>\n",
              "  </div>\n",
              "  "
            ]
          },
          "metadata": {},
          "execution_count": 134
        }
      ],
      "source": [
        "data.head()"
      ]
    },
    {
      "cell_type": "code",
      "execution_count": null,
      "metadata": {
        "colab": {
          "base_uri": "https://localhost:8080/"
        },
        "id": "Vd1QFkViEBGc",
        "outputId": "3a7037d9-e11e-415e-9402-319123d518e8"
      },
      "outputs": [
        {
          "output_type": "execute_result",
          "data": {
            "text/plain": [
              "120"
            ]
          },
          "metadata": {},
          "execution_count": 135
        }
      ],
      "source": [
        "data[\"т/ч\"].isnull().sum()"
      ]
    },
    {
      "cell_type": "code",
      "source": [
        "data[\"т/ч\"] = data[\"т/ч\"].fillna(0)\n",
        "data[\"т/ч\"].isnull().sum()"
      ],
      "metadata": {
        "colab": {
          "base_uri": "https://localhost:8080/"
        },
        "id": "sFjuTW6qOMT0",
        "outputId": "8c202055-34f9-4462-8956-91f255e243f4"
      },
      "execution_count": null,
      "outputs": [
        {
          "output_type": "execute_result",
          "data": {
            "text/plain": [
              "0"
            ]
          },
          "metadata": {},
          "execution_count": 136
        }
      ]
    },
    {
      "cell_type": "markdown",
      "source": [
        "-------------------\n"
      ],
      "metadata": {
        "id": "CnLGkfrSPARU"
      }
    },
    {
      "cell_type": "code",
      "source": [
        "data[\"т/ч.1\"].isnull().sum()"
      ],
      "metadata": {
        "colab": {
          "base_uri": "https://localhost:8080/"
        },
        "id": "SmeUXuLSOlQt",
        "outputId": "75b60bdc-1cb4-4802-c012-d973f419213d"
      },
      "execution_count": null,
      "outputs": [
        {
          "output_type": "execute_result",
          "data": {
            "text/plain": [
              "120"
            ]
          },
          "metadata": {},
          "execution_count": 137
        }
      ]
    },
    {
      "cell_type": "code",
      "source": [
        "data[\"т/ч.1\"] = data[\"т/ч.1\"].fillna(0)\n",
        "data[\"т/ч.1\"].isnull().sum()"
      ],
      "metadata": {
        "colab": {
          "base_uri": "https://localhost:8080/"
        },
        "id": "Zz6z0wOVOrH-",
        "outputId": "613f088f-9333-4192-8e83-1e5d76cf3bc4"
      },
      "execution_count": null,
      "outputs": [
        {
          "output_type": "execute_result",
          "data": {
            "text/plain": [
              "0"
            ]
          },
          "metadata": {},
          "execution_count": 138
        }
      ]
    },
    {
      "cell_type": "code",
      "source": [],
      "metadata": {
        "id": "dVR2ZYFvOuAu"
      },
      "execution_count": null,
      "outputs": []
    },
    {
      "cell_type": "markdown",
      "source": [
        "____________________________________________________________\n"
      ],
      "metadata": {
        "id": "FwfuDWuJPDr_"
      }
    },
    {
      "cell_type": "code",
      "source": [
        "data[\"т/ч.2\"].isnull().sum()"
      ],
      "metadata": {
        "colab": {
          "base_uri": "https://localhost:8080/"
        },
        "id": "8B2KDAUJOuDB",
        "outputId": "e4ca4c08-aa4a-470d-a870-038ca65195c1"
      },
      "execution_count": null,
      "outputs": [
        {
          "output_type": "execute_result",
          "data": {
            "text/plain": [
              "120"
            ]
          },
          "metadata": {},
          "execution_count": 139
        }
      ]
    },
    {
      "cell_type": "code",
      "source": [
        "data[\"т/ч.2\"] = data[\"т/ч.2\"].fillna(0)\n",
        "data[\"т/ч.2\"].isnull().sum()"
      ],
      "metadata": {
        "colab": {
          "base_uri": "https://localhost:8080/"
        },
        "id": "WXYwdFP1O0zs",
        "outputId": "a5cc30a2-fa52-4b4c-ccbb-b3ef52f1a2e1"
      },
      "execution_count": null,
      "outputs": [
        {
          "output_type": "execute_result",
          "data": {
            "text/plain": [
              "0"
            ]
          },
          "metadata": {},
          "execution_count": 140
        }
      ]
    },
    {
      "cell_type": "markdown",
      "source": [
        "________________________________________________________________"
      ],
      "metadata": {
        "id": "lp49spWdPHS2"
      }
    },
    {
      "cell_type": "code",
      "source": [
        "data[\"т/ч.3\"].isnull().sum()"
      ],
      "metadata": {
        "colab": {
          "base_uri": "https://localhost:8080/"
        },
        "id": "MU3j6n4oO3XR",
        "outputId": "fa419b0e-6b8e-45ca-ecbf-f06eb67ed30a"
      },
      "execution_count": null,
      "outputs": [
        {
          "output_type": "execute_result",
          "data": {
            "text/plain": [
              "120"
            ]
          },
          "metadata": {},
          "execution_count": 141
        }
      ]
    },
    {
      "cell_type": "code",
      "source": [
        "data[\"т/ч.3\"] = data[\"т/ч.3\"].fillna(0)\n",
        "data[\"т/ч.3\"].isnull().sum()"
      ],
      "metadata": {
        "colab": {
          "base_uri": "https://localhost:8080/"
        },
        "id": "nMvn8MblO3Zc",
        "outputId": "5b7b156b-fbef-43af-9b51-54688eff9c00"
      },
      "execution_count": null,
      "outputs": [
        {
          "output_type": "execute_result",
          "data": {
            "text/plain": [
              "0"
            ]
          },
          "metadata": {},
          "execution_count": 142
        }
      ]
    },
    {
      "cell_type": "markdown",
      "source": [
        "__________________________________________________\n"
      ],
      "metadata": {
        "id": "AN9s9WgSPUvU"
      }
    },
    {
      "cell_type": "code",
      "source": [
        "data[\"т/ч.4\"].isnull().sum()"
      ],
      "metadata": {
        "colab": {
          "base_uri": "https://localhost:8080/"
        },
        "id": "Wcrs9CTZPafJ",
        "outputId": "2322bcbe-1d2f-4fa7-8dd5-7f40de6d21d6"
      },
      "execution_count": null,
      "outputs": [
        {
          "output_type": "execute_result",
          "data": {
            "text/plain": [
              "120"
            ]
          },
          "metadata": {},
          "execution_count": 143
        }
      ]
    },
    {
      "cell_type": "code",
      "source": [
        "data[\"т/ч.4\"] = data[\"т/ч.4\"].fillna(0)\n",
        "data[\"т/ч.4\"].isnull().sum()"
      ],
      "metadata": {
        "colab": {
          "base_uri": "https://localhost:8080/"
        },
        "id": "0o69D2LGPcRu",
        "outputId": "53028738-1fc7-4641-ebb9-45a73c7222aa"
      },
      "execution_count": null,
      "outputs": [
        {
          "output_type": "execute_result",
          "data": {
            "text/plain": [
              "0"
            ]
          },
          "metadata": {},
          "execution_count": 144
        }
      ]
    },
    {
      "cell_type": "markdown",
      "source": [
        "______________________________________________________________"
      ],
      "metadata": {
        "id": "2GEA7NPnPhEC"
      }
    },
    {
      "cell_type": "code",
      "source": [
        "data[\"т/ч.5\"].isnull().sum()"
      ],
      "metadata": {
        "colab": {
          "base_uri": "https://localhost:8080/"
        },
        "id": "HeJaiCVdPgG2",
        "outputId": "ec637f35-f389-4272-c48d-932ea1c59463"
      },
      "execution_count": null,
      "outputs": [
        {
          "output_type": "execute_result",
          "data": {
            "text/plain": [
              "120"
            ]
          },
          "metadata": {},
          "execution_count": 145
        }
      ]
    },
    {
      "cell_type": "code",
      "source": [
        "data[\"т/ч.5\"] = data[\"т/ч.5\"].fillna(0)\n",
        "data[\"т/ч.5\"].isnull().sum()"
      ],
      "metadata": {
        "colab": {
          "base_uri": "https://localhost:8080/"
        },
        "id": "L98lLCxNPk67",
        "outputId": "79ed734f-5bc7-45fb-eac3-0642b06fd806"
      },
      "execution_count": null,
      "outputs": [
        {
          "output_type": "execute_result",
          "data": {
            "text/plain": [
              "0"
            ]
          },
          "metadata": {},
          "execution_count": 146
        }
      ]
    },
    {
      "cell_type": "markdown",
      "source": [
        "___________________________________________________________\n"
      ],
      "metadata": {
        "id": "VqbkosQOPt5Y"
      }
    },
    {
      "cell_type": "code",
      "source": [
        "data[\"Гкал.7\"].isnull().sum()"
      ],
      "metadata": {
        "colab": {
          "base_uri": "https://localhost:8080/"
        },
        "id": "DoJdcmjgPtS7",
        "outputId": "dbefb9a2-e74c-42ca-8fa5-adcc870d2a92"
      },
      "execution_count": null,
      "outputs": [
        {
          "output_type": "execute_result",
          "data": {
            "text/plain": [
              "0"
            ]
          },
          "metadata": {},
          "execution_count": 176
        }
      ]
    },
    {
      "cell_type": "code",
      "execution_count": null,
      "metadata": {
        "id": "gtgHx7tRFIkX"
      },
      "outputs": [],
      "source": [
        "data.to_csv(\"page2i.csv\", encoding='utf-8')"
      ]
    },
    {
      "cell_type": "code",
      "execution_count": null,
      "metadata": {
        "id": "eOtrHbZqGbmN"
      },
      "outputs": [],
      "source": []
    }
  ],
  "metadata": {
    "colab": {
      "provenance": []
    },
    "kernelspec": {
      "display_name": "Python 3",
      "name": "python3"
    },
    "language_info": {
      "name": "python"
    }
  },
  "nbformat": 4,
  "nbformat_minor": 0
}