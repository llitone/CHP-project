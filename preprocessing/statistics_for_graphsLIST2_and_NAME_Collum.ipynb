{
  "nbformat": 4,
  "nbformat_minor": 0,
  "metadata": {
    "colab": {
      "provenance": []
    },
    "kernelspec": {
      "name": "python3",
      "display_name": "Python 3"
    },
    "language_info": {
      "name": "python"
    }
  },
  "cells": [
    {
      "cell_type": "code",
      "execution_count": null,
      "metadata": {
        "id": "Xm-dbdGS9NdL"
      },
      "outputs": [],
      "source": [
        "import numpy as np\n",
        "import pandas as pd\n",
        "import matplotlib\n",
        "import matplotlib.pyplot as plt\n",
        "\n",
        "import os"
      ]
    },
    {
      "cell_type": "code",
      "source": [
        "df = pd.read_csv(\"page2.csv\")"
      ],
      "metadata": {
        "id": "QAmt58MM_AGe"
      },
      "execution_count": null,
      "outputs": []
    },
    {
      "cell_type": "code",
      "source": [
        "collum_name = []\n",
        "for col_name, data in df.items():\n",
        "  collum_name.append(data[0])\n"
      ],
      "metadata": {
        "id": "MN7Pi0kcBR1n"
      },
      "execution_count": null,
      "outputs": []
    },
    {
      "cell_type": "code",
      "source": [
        "counter = {}\n",
        "\n",
        "for elem in collum_name:\n",
        "    counter[elem] = counter.get(elem, 0) + 1\n",
        "\n",
        "doubles = {element: count for element, count in counter.items() if count > 1}\n",
        "\n",
        "print(doubles)"
      ],
      "metadata": {
        "colab": {
          "base_uri": "https://localhost:8080/"
        },
        "id": "AfbsgBg1CDBU",
        "outputId": "ddabcfd4-de54-4a97-e666-7569e50b94b9"
      },
      "execution_count": null,
      "outputs": [
        {
          "output_type": "stream",
          "name": "stdout",
          "text": [
            "{nan: 7}\n"
          ]
        }
      ]
    },
    {
      "cell_type": "code",
      "source": [
        "df=df.rename(columns={df.columns[1]: 'Period_Time'})\n",
        "df.head()\n",
        "df.at[0, 'Period_Time'] = 'Period'"
      ],
      "metadata": {
        "id": "JERihzzxCJZC"
      },
      "execution_count": null,
      "outputs": []
    },
    {
      "cell_type": "code",
      "source": [
        "df = df.drop(columns=['Unnamed: 7', 'Unnamed: 14', 'Unnamed: 21', 'Unnamed: 30', 'Unnamed: 39', 'Unnamed: 42', ])\n"
      ],
      "metadata": {
        "id": "R2OGW1DEHiQ9"
      },
      "execution_count": null,
      "outputs": []
    },
    {
      "cell_type": "code",
      "source": [
        "df.to_csv('page2_normal.csv')"
      ],
      "metadata": {
        "id": "01MM5uVMKsom"
      },
      "execution_count": null,
      "outputs": []
    }
  ]
}