{
 "cells": [
  {
   "cell_type": "code",
   "execution_count": 1,
   "metadata": {
    "collapsed": true
   },
   "outputs": [],
   "source": [
    "import pandas as pd\n",
    "import os"
   ]
  },
  {
   "cell_type": "code",
   "execution_count": 5,
   "outputs": [],
   "source": [
    "os.chdir('../raw_data')"
   ],
   "metadata": {
    "collapsed": false
   }
  },
  {
   "cell_type": "markdown",
   "source": [
    "# База данных"
   ],
   "metadata": {
    "collapsed": false
   }
  },
  {
   "cell_type": "code",
   "execution_count": 6,
   "outputs": [],
   "source": [
    "data = pd.read_excel(\n",
    "    \"Статистика для графиков 3 д.xlsx\",\n",
    "         sheet_name=\"База данных\")"
   ],
   "metadata": {
    "collapsed": false
   }
  },
  {
   "cell_type": "code",
   "execution_count": 7,
   "outputs": [
    {
     "data": {
      "text/plain": "array([   0,    0,    0,    0,    0,    0,    0, 1341,    0,    0,    0,\n          0,    0,    0,    0,    0,    0,    0,    0,    0,    0,    0,\n          0,    0,    0,    0,    0,    0,    0,    0,    0,    0,    0,\n          0,    0,    0,    0, 1341,    0,    0,    0,    0,    0,    0,\n          0])"
     },
     "execution_count": 7,
     "metadata": {},
     "output_type": "execute_result"
    }
   ],
   "source": [
    "data.isna().sum().values"
   ],
   "metadata": {
    "collapsed": false
   }
  },
  {
   "cell_type": "code",
   "execution_count": 8,
   "outputs": [],
   "source": [
    "data = data.drop([\"Unnamed: 7\"], axis=1)"
   ],
   "metadata": {
    "collapsed": false
   }
  },
  {
   "cell_type": "code",
   "execution_count": 9,
   "outputs": [],
   "source": [
    "data.to_csv(\"../preprocessed_data/statistics_for_graphs/db.csv\")"
   ],
   "metadata": {
    "collapsed": false
   }
  },
  {
   "cell_type": "markdown",
   "source": [
    "# Лист6"
   ],
   "metadata": {
    "collapsed": false
   }
  },
  {
   "cell_type": "code",
   "execution_count": 29,
   "outputs": [],
   "source": [
    "data = pd.read_excel(\"Статистика для графиков 3 д.xlsx\", sheet_name=\"Лист6\")"
   ],
   "metadata": {
    "collapsed": false
   }
  },
  {
   "cell_type": "code",
   "execution_count": 11,
   "outputs": [
    {
     "data": {
      "text/plain": "array([  0,   1,   1,   1, 330])"
     },
     "execution_count": 11,
     "metadata": {},
     "output_type": "execute_result"
    }
   ],
   "source": [
    "data.isna().sum().values"
   ],
   "metadata": {
    "collapsed": false
   }
  },
  {
   "cell_type": "code",
   "execution_count": 12,
   "outputs": [],
   "source": [
    "data.to_csv(\"../preprocessed_data/statistics_for_graphs/page6.csv\")"
   ],
   "metadata": {
    "collapsed": false
   }
  },
  {
   "cell_type": "markdown",
   "source": [
    "# Лист5"
   ],
   "metadata": {
    "collapsed": false
   }
  },
  {
   "cell_type": "code",
   "execution_count": 31,
   "outputs": [],
   "source": [
    "data = pd.read_excel(\"Статистика для графиков 3 д.xlsx\", sheet_name=\"Лист5\")"
   ],
   "metadata": {
    "collapsed": false
   }
  },
  {
   "cell_type": "code",
   "execution_count": 14,
   "outputs": [
    {
     "data": {
      "text/plain": "array([   0,    0,    0,    0, 1341,  483,  483,  483])"
     },
     "execution_count": 14,
     "metadata": {},
     "output_type": "execute_result"
    }
   ],
   "source": [
    "data.isna().sum().values"
   ],
   "metadata": {
    "collapsed": false
   }
  },
  {
   "cell_type": "code",
   "execution_count": 15,
   "outputs": [],
   "source": [
    "data.to_csv(\"../preprocessed_data/statistics_for_graphs/page5.csv\")"
   ],
   "metadata": {
    "collapsed": false
   }
  },
  {
   "cell_type": "markdown",
   "source": [
    "# Лист8"
   ],
   "metadata": {
    "collapsed": false
   }
  },
  {
   "cell_type": "code",
   "execution_count": 33,
   "outputs": [],
   "source": [
    "data = pd.read_excel(\"Статистика для графиков 3 д.xlsx\", sheet_name=\"Лист8\")"
   ],
   "metadata": {
    "collapsed": false
   }
  },
  {
   "cell_type": "code",
   "execution_count": 17,
   "outputs": [
    {
     "data": {
      "text/plain": "array([0, 1, 1, 1])"
     },
     "execution_count": 17,
     "metadata": {},
     "output_type": "execute_result"
    }
   ],
   "source": [
    "data.isna().sum().values"
   ],
   "metadata": {
    "collapsed": false
   }
  },
  {
   "cell_type": "code",
   "execution_count": 18,
   "outputs": [],
   "source": [
    "data.to_csv(\"../preprocessed_data/statistics_for_graphs/page8.csv\")"
   ],
   "metadata": {
    "collapsed": false
   }
  },
  {
   "cell_type": "markdown",
   "source": [
    "# Лист3"
   ],
   "metadata": {
    "collapsed": false
   }
  },
  {
   "cell_type": "code",
   "execution_count": 35,
   "outputs": [],
   "source": [
    "data = pd.read_excel(\"Статистика для графиков 3 д.xlsx\", sheet_name=\"Лист3\")"
   ],
   "metadata": {
    "collapsed": false
   }
  },
  {
   "cell_type": "code",
   "execution_count": 20,
   "outputs": [
    {
     "data": {
      "text/plain": "array([0, 0, 0, 0, 0, 0, 0])"
     },
     "execution_count": 20,
     "metadata": {},
     "output_type": "execute_result"
    }
   ],
   "source": [
    "data.isna().sum().values"
   ],
   "metadata": {
    "collapsed": false
   }
  },
  {
   "cell_type": "code",
   "execution_count": 21,
   "outputs": [],
   "source": [
    "data.to_csv(\"../preprocessed_data/statistics_for_graphs/page3.csv\")"
   ],
   "metadata": {
    "collapsed": false
   }
  },
  {
   "cell_type": "markdown",
   "source": [
    "# Лист2"
   ],
   "metadata": {
    "collapsed": false
   }
  },
  {
   "cell_type": "code",
   "execution_count": 37,
   "outputs": [],
   "source": [
    "data = pd.read_excel(\"Статистика для графиков 3 д.xlsx\", sheet_name=\"Лист2\")"
   ],
   "metadata": {
    "collapsed": false
   }
  },
  {
   "cell_type": "code",
   "execution_count": 38,
   "outputs": [
    {
     "data": {
      "text/plain": "            Unnamed: 0                           тыс. кВтч  \\\n0                  NaN  Выработка электроэнергии ТА гр.130   \n1               Период                        00T000GE0L19   \n2  2019-01-01 00:00:00                            6127.957   \n3  2019-01-02 00:00:00                            6178.173   \n4  2019-01-03 00:00:00                            6543.367   \n\n                         тыс. кВтч.1  \\\n0  Выработка электроэнергии ТА гр.90   \n1                       00T000GE0N19   \n2                            1017.03   \n3                           1018.596   \n4                           1022.184   \n\n                                          ккал/кВтч  \\\n0  Удельный расход тепла на выработку э/э ТА гр.130   \n1                                      00T000DU0L19   \n2                                       1359.180556   \n3                                       1357.844787   \n4                                       1394.847637   \n\n                                       ккал/кВтч.1  \\\n0  Удельный расход тепла на выработку э/э ТА гр.90   \n1                                     00T000DU0N19   \n2                                           1943.9   \n3                                          1896.73   \n4                                          1981.05   \n\n                                              г/кВтч  \\\n0  Удельный расход условного топлива на отпуск э/...   \n1                                       00S000GD0L19   \n2                                         312.516107   \n3                                         312.146501   \n4                                         313.185036   \n\n                                            г/кВтч.1           Unnamed: 7  \\\n0  Удельный расход условного топлива на отпуск э/...                  NaN   \n1                                       00S000GD0N19               Период   \n2                                         466.813463  2019-05-01 00:00:00   \n3                                         460.440775  2019-05-02 00:00:00   \n4                                         468.609355  2019-05-03 00:00:00   \n\n                               т/ч                            т/ч.1  ...  \\\n0  Расход пара в конденсатор ТА №3  Расход пара в конденсатор ТА №4  ...   \n1                     03T110DH0N19                     04T110DH0N19  ...   \n2                                0                        63.363636  ...   \n3                                0                        43.708333  ...   \n4                                0                               72  ...   \n\n           Unnamed: 39                          Гкал  \\\n0                  NaN  Отпуск тепла из ТО ТА гр.130   \n1               Период                  00T000QT0L19   \n2  2019-01-01 00:00:00                         10544   \n3  2019-01-02 00:00:00                         10497   \n4  2019-01-03 00:00:00                         10494   \n\n                        Гкал.1          Unnamed: 42                    Гкал.2  \\\n0  Отпуск тепла из ТО ТА гр.90                  NaN  Отпуск тепла из ТО ТА №3   \n1                 00T000QT0N19               Период              03T000QT0N19   \n2                         1275  2019-01-01 00:00:00                         0   \n3                         1279  2019-01-02 00:00:00                         0   \n4                         1463  2019-01-03 00:00:00                         0   \n\n                     Гкал.3                    Гкал.4  \\\n0  Отпуск тепла из ТО ТА №4  Отпуск тепла из ТО ТА №5   \n1              04T000QT0N19              05T000QT0N19   \n2                       424                       851   \n3                       439                       840   \n4                       451                      1012   \n\n                     Гкал.5                    Гкал.6  \\\n0  Отпуск тепла из ТО ТА №6  Отпуск тепла из ТО ТА №7   \n1              06T000QT0L19              07T000QT0L19   \n2                      4149                      3204   \n3                      4279                      3227   \n4                      3893                      3470   \n\n                     Гкал.7  \n0  Отпуск тепла из ТО ТА №8  \n1              08T000QT0L19  \n2                      3191  \n3                      2991  \n4                      3131  \n\n[5 rows x 49 columns]",
      "text/html": "<div>\n<style scoped>\n    .dataframe tbody tr th:only-of-type {\n        vertical-align: middle;\n    }\n\n    .dataframe tbody tr th {\n        vertical-align: top;\n    }\n\n    .dataframe thead th {\n        text-align: right;\n    }\n</style>\n<table border=\"1\" class=\"dataframe\">\n  <thead>\n    <tr style=\"text-align: right;\">\n      <th></th>\n      <th>Unnamed: 0</th>\n      <th>тыс. кВтч</th>\n      <th>тыс. кВтч.1</th>\n      <th>ккал/кВтч</th>\n      <th>ккал/кВтч.1</th>\n      <th>г/кВтч</th>\n      <th>г/кВтч.1</th>\n      <th>Unnamed: 7</th>\n      <th>т/ч</th>\n      <th>т/ч.1</th>\n      <th>...</th>\n      <th>Unnamed: 39</th>\n      <th>Гкал</th>\n      <th>Гкал.1</th>\n      <th>Unnamed: 42</th>\n      <th>Гкал.2</th>\n      <th>Гкал.3</th>\n      <th>Гкал.4</th>\n      <th>Гкал.5</th>\n      <th>Гкал.6</th>\n      <th>Гкал.7</th>\n    </tr>\n  </thead>\n  <tbody>\n    <tr>\n      <th>0</th>\n      <td>NaN</td>\n      <td>Выработка электроэнергии ТА гр.130</td>\n      <td>Выработка электроэнергии ТА гр.90</td>\n      <td>Удельный расход тепла на выработку э/э ТА гр.130</td>\n      <td>Удельный расход тепла на выработку э/э ТА гр.90</td>\n      <td>Удельный расход условного топлива на отпуск э/...</td>\n      <td>Удельный расход условного топлива на отпуск э/...</td>\n      <td>NaN</td>\n      <td>Расход пара в конденсатор ТА №3</td>\n      <td>Расход пара в конденсатор ТА №4</td>\n      <td>...</td>\n      <td>NaN</td>\n      <td>Отпуск тепла из ТО ТА гр.130</td>\n      <td>Отпуск тепла из ТО ТА гр.90</td>\n      <td>NaN</td>\n      <td>Отпуск тепла из ТО ТА №3</td>\n      <td>Отпуск тепла из ТО ТА №4</td>\n      <td>Отпуск тепла из ТО ТА №5</td>\n      <td>Отпуск тепла из ТО ТА №6</td>\n      <td>Отпуск тепла из ТО ТА №7</td>\n      <td>Отпуск тепла из ТО ТА №8</td>\n    </tr>\n    <tr>\n      <th>1</th>\n      <td>Период</td>\n      <td>00T000GE0L19</td>\n      <td>00T000GE0N19</td>\n      <td>00T000DU0L19</td>\n      <td>00T000DU0N19</td>\n      <td>00S000GD0L19</td>\n      <td>00S000GD0N19</td>\n      <td>Период</td>\n      <td>03T110DH0N19</td>\n      <td>04T110DH0N19</td>\n      <td>...</td>\n      <td>Период</td>\n      <td>00T000QT0L19</td>\n      <td>00T000QT0N19</td>\n      <td>Период</td>\n      <td>03T000QT0N19</td>\n      <td>04T000QT0N19</td>\n      <td>05T000QT0N19</td>\n      <td>06T000QT0L19</td>\n      <td>07T000QT0L19</td>\n      <td>08T000QT0L19</td>\n    </tr>\n    <tr>\n      <th>2</th>\n      <td>2019-01-01 00:00:00</td>\n      <td>6127.957</td>\n      <td>1017.03</td>\n      <td>1359.180556</td>\n      <td>1943.9</td>\n      <td>312.516107</td>\n      <td>466.813463</td>\n      <td>2019-05-01 00:00:00</td>\n      <td>0</td>\n      <td>63.363636</td>\n      <td>...</td>\n      <td>2019-01-01 00:00:00</td>\n      <td>10544</td>\n      <td>1275</td>\n      <td>2019-01-01 00:00:00</td>\n      <td>0</td>\n      <td>424</td>\n      <td>851</td>\n      <td>4149</td>\n      <td>3204</td>\n      <td>3191</td>\n    </tr>\n    <tr>\n      <th>3</th>\n      <td>2019-01-02 00:00:00</td>\n      <td>6178.173</td>\n      <td>1018.596</td>\n      <td>1357.844787</td>\n      <td>1896.73</td>\n      <td>312.146501</td>\n      <td>460.440775</td>\n      <td>2019-05-02 00:00:00</td>\n      <td>0</td>\n      <td>43.708333</td>\n      <td>...</td>\n      <td>2019-01-02 00:00:00</td>\n      <td>10497</td>\n      <td>1279</td>\n      <td>2019-01-02 00:00:00</td>\n      <td>0</td>\n      <td>439</td>\n      <td>840</td>\n      <td>4279</td>\n      <td>3227</td>\n      <td>2991</td>\n    </tr>\n    <tr>\n      <th>4</th>\n      <td>2019-01-03 00:00:00</td>\n      <td>6543.367</td>\n      <td>1022.184</td>\n      <td>1394.847637</td>\n      <td>1981.05</td>\n      <td>313.185036</td>\n      <td>468.609355</td>\n      <td>2019-05-03 00:00:00</td>\n      <td>0</td>\n      <td>72</td>\n      <td>...</td>\n      <td>2019-01-03 00:00:00</td>\n      <td>10494</td>\n      <td>1463</td>\n      <td>2019-01-03 00:00:00</td>\n      <td>0</td>\n      <td>451</td>\n      <td>1012</td>\n      <td>3893</td>\n      <td>3470</td>\n      <td>3131</td>\n    </tr>\n  </tbody>\n</table>\n<p>5 rows × 49 columns</p>\n</div>"
     },
     "execution_count": 38,
     "metadata": {},
     "output_type": "execute_result"
    }
   ],
   "source": [
    "data.head()"
   ],
   "metadata": {
    "collapsed": false
   }
  },
  {
   "cell_type": "code",
   "execution_count": 23,
   "outputs": [
    {
     "data": {
      "text/plain": "array([  1,   0,   0,   0,   0,   0,   0, 121, 120, 120, 120, 120, 120,\n       120,   1,   0,   0,   0,   0,   0,   0,   1,   0,   0,   0,   0,\n         0,   0,   0,   0,   1,   0,   0,   0,   0,   0,   0,   0,   0,\n         1,   0,   0,   1,   0,   0,   0,   0,   0,   0])"
     },
     "execution_count": 23,
     "metadata": {},
     "output_type": "execute_result"
    }
   ],
   "source": [
    "data.isna().sum().values"
   ],
   "metadata": {
    "collapsed": false
   }
  },
  {
   "cell_type": "code",
   "execution_count": 24,
   "outputs": [],
   "source": [
    "data.to_csv(\"../preprocessed_data/statistics_for_graphs/page2.csv\")"
   ],
   "metadata": {
    "collapsed": false
   }
  },
  {
   "cell_type": "markdown",
   "source": [
    "# Лист1"
   ],
   "metadata": {
    "collapsed": false
   }
  },
  {
   "cell_type": "code",
   "execution_count": 25,
   "outputs": [],
   "source": [
    "data = pd.read_excel(\"Статистика для графиков 3 д.xlsx\", sheet_name=\"Лист1\")"
   ],
   "metadata": {
    "collapsed": false
   }
  },
  {
   "cell_type": "code",
   "execution_count": 26,
   "outputs": [],
   "source": [
    "data = data.drop([\"Unnamed: 0\", \"Unnamed: 6\", \"Unnamed: 11\"], axis=1)"
   ],
   "metadata": {
    "collapsed": false
   }
  },
  {
   "cell_type": "code",
   "execution_count": 27,
   "outputs": [],
   "source": [
    "data_first_part = data[[\"Unnamed: 1\", \"Unnamed: 2\", \"Unnamed: 3\", \"Unnamed: 4\", \"Unnamed: 5\"]]"
   ],
   "metadata": {
    "collapsed": false
   }
  },
  {
   "cell_type": "code",
   "execution_count": 120,
   "outputs": [],
   "source": [
    "data_first_part = data_first_part.dropna()"
   ],
   "metadata": {
    "collapsed": false
   }
  },
  {
   "cell_type": "code",
   "execution_count": 121,
   "outputs": [],
   "source": [
    "data_first_part.to_csv(\"../preprocessed_data/statistics_for_graphs/page1/page1_first_part.csv\")"
   ],
   "metadata": {
    "collapsed": false
   }
  },
  {
   "cell_type": "code",
   "execution_count": 122,
   "outputs": [],
   "source": [
    "data_second_part = data[[\"Unnamed: 7\", \"Unnamed: 8\", \"Unnamed: 9\", \"Unnamed: 10\"]]"
   ],
   "metadata": {
    "collapsed": false
   }
  },
  {
   "cell_type": "code",
   "execution_count": 123,
   "outputs": [],
   "source": [
    "data_second_part = data_second_part.dropna()"
   ],
   "metadata": {
    "collapsed": false
   }
  },
  {
   "cell_type": "code",
   "execution_count": 127,
   "outputs": [],
   "source": [
    "data_first_part.to_csv(\"../preprocessed_data/statistics_for_graphs/page1_second_part.csv\")"
   ],
   "metadata": {
    "collapsed": false
   }
  },
  {
   "cell_type": "code",
   "execution_count": 128,
   "outputs": [],
   "source": [
    "data_third_part = data[[\"Unnamed: 12\", \"Unnamed: 13\", \"Unnamed: 14\"]]"
   ],
   "metadata": {
    "collapsed": false
   }
  },
  {
   "cell_type": "code",
   "execution_count": 129,
   "outputs": [],
   "source": [
    "data_third_part = data_third_part.dropna()"
   ],
   "metadata": {
    "collapsed": false
   }
  },
  {
   "cell_type": "code",
   "execution_count": 131,
   "outputs": [],
   "source": [
    "data_third_part.to_csv(\"../preprocessed_data/statistics_for_graphs/page1_third_part.csv\")"
   ],
   "metadata": {
    "collapsed": false
   }
  },
  {
   "cell_type": "code",
   "execution_count": null,
   "outputs": [],
   "source": [],
   "metadata": {
    "collapsed": false
   }
  }
 ],
 "metadata": {
  "kernelspec": {
   "display_name": "Python 3",
   "language": "python",
   "name": "python3"
  },
  "language_info": {
   "codemirror_mode": {
    "name": "ipython",
    "version": 2
   },
   "file_extension": ".py",
   "mimetype": "text/x-python",
   "name": "python",
   "nbconvert_exporter": "python",
   "pygments_lexer": "ipython2",
   "version": "2.7.6"
  }
 },
 "nbformat": 4,
 "nbformat_minor": 0
}
