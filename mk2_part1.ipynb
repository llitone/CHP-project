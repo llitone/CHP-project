{
  "nbformat": 4,
  "nbformat_minor": 0,
  "metadata": {
    "colab": {
      "provenance": [],
      "authorship_tag": "ABX9TyMeYY7mK6bvyK4IkXDulzzs"
    },
    "kernelspec": {
      "name": "python3",
      "display_name": "Python 3"
    },
    "language_info": {
      "name": "python"
    }
  },
  "cells": [
    {
      "cell_type": "code",
      "execution_count": 74,
      "metadata": {
        "id": "QN6tv3bodad_"
      },
      "outputs": [],
      "source": [
        "import pandas as pd\n",
        "import numpy as np\n",
        "\n",
        "data = pd.read_csv('mk2-part1.csv')"
      ]
    },
    {
      "cell_type": "code",
      "source": [
        "for (columnName, columnData) in data.drop(['Час', 'Unnamed: 0'], axis=1).iteritems():\n",
        "  num_mean = 3\n",
        "  for mean in columnData.iloc[3:]:\n",
        "    if  mean[1:].isdigit() is False:\n",
        "        data[columnName].iloc[num_mean] = ''.join(mean.split())\n",
        "    num_mean +=1"
      ],
      "metadata": {
        "id": "dfkIBdiCg_MK"
      },
      "execution_count": null,
      "outputs": []
    },
    {
      "cell_type": "code",
      "source": [
        "data.to_csv('mk2_part1.csv')"
      ],
      "metadata": {
        "id": "ZdI7mozziwhW"
      },
      "execution_count": 78,
      "outputs": []
    }
  ]
}